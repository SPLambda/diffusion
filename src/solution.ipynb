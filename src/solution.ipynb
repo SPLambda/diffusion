{
 "cells": [
  {
   "cell_type": "code",
   "execution_count": 1,
   "id": "initial_id",
   "metadata": {
    "collapsed": true,
    "ExecuteTime": {
     "end_time": "2023-10-18T10:43:29.398378800Z",
     "start_time": "2023-10-18T10:43:18.078233600Z"
    }
   },
   "outputs": [
    {
     "name": "stderr",
     "output_type": "stream",
     "text": [
      "C:\\Users\\Csanad\\AppData\\Roaming\\Python\\Python39\\site-packages\\tqdm\\auto.py:21: TqdmWarning: IProgress not found. Please update jupyter and ipywidgets. See https://ipywidgets.readthedocs.io/en/stable/user_install.html\n",
      "  from .autonotebook import tqdm as notebook_tqdm\n"
     ]
    }
   ],
   "source": [
    "import tensorflow as tf\n",
    "import tensorflow_datasets as tfds"
   ]
  },
  {
   "cell_type": "markdown",
   "source": [
    "# Data aquisition&preparation"
   ],
   "metadata": {
    "collapsed": false
   },
   "id": "f32636119e6eecfc"
  },
  {
   "cell_type": "code",
   "execution_count": null,
   "outputs": [],
   "source": [
    "# Oxford-IIIT pet dataset:\n",
    "# https://github.com/tensorflow/datasets/tree/master/tensorflow_datasets/datasets/oxford_iiit_pet\n",
    "dataset_name = \"oxford_iiit_pet\"\n",
    "split = [\n",
    "    \"train[:60%]+test[:60%]\",\n",
    "    \"train[60%:80%]+test[60%:80%]\",\n",
    "    \"train[80%:]+test[80%:]\"\n",
    "]"
   ],
   "metadata": {
    "collapsed": false
   },
   "id": "2fc6209616453146"
  },
  {
   "cell_type": "code",
   "execution_count": 15,
   "outputs": [],
   "source": [
    "# Oxford Flowers 102 dataset:\n",
    "# https://github.com/tensorflow/datasets/tree/master/tensorflow_datasets/datasets/oxford_flowers102\n",
    "dataset_name = \"oxford_flowers102\"\n",
    "split = [\n",
    "    \"train[:60%]+validation[:60%]+test[:60%]\",\n",
    "    \"train[60%:80%]+validation[60%:80%]+test[60%:80%]\",\n",
    "    \"train[80%:]+validation[80%:]+test[80%:]\"\n",
    "]"
   ],
   "metadata": {
    "collapsed": false,
    "ExecuteTime": {
     "end_time": "2023-10-18T11:09:36.539447100Z",
     "start_time": "2023-10-18T11:09:36.521562300Z"
    }
   },
   "id": "a1638cc90c25dff6"
  },
  {
   "cell_type": "code",
   "execution_count": 12,
   "outputs": [],
   "source": [
    "# Hyperparameters\n",
    "img_size = 64\n",
    "batch_size = 64"
   ],
   "metadata": {
    "collapsed": false,
    "ExecuteTime": {
     "start_time": "2023-10-18T11:00:21.199983900Z"
    }
   },
   "id": "1f07404a11018525"
  },
  {
   "cell_type": "code",
   "execution_count": 3,
   "outputs": [],
   "source": [
    "def preprocess_image(data):\n",
    "    height = tf.shape(data[\"image\"])[0]\n",
    "    width = tf.shape(data[\"image\"])[1]\n",
    "    crop_size = tf.minimum(height, width)\n",
    "    img = tf.image.crop_to_bounding_box(\n",
    "        data[\"image\"],\n",
    "        (height - crop_size) // 2,\n",
    "        (width - crop_size) // 2,\n",
    "        crop_size,\n",
    "        crop_size,\n",
    "    )\n",
    "    img = tf.cast(img, dtype=tf.float32)\n",
    "    img = tf.image.resize(img, size=(img_size, img_size), antialias=True)\n",
    "    return tf.clip_by_value(img / 255.0, 0.0, 1.0)"
   ],
   "metadata": {
    "collapsed": false,
    "ExecuteTime": {
     "end_time": "2023-10-18T10:43:33.018786600Z",
     "start_time": "2023-10-18T10:43:32.941407100Z"
    }
   },
   "id": "532148c5eab970f6"
  },
  {
   "cell_type": "code",
   "execution_count": 16,
   "outputs": [],
   "source": [
    "def preprocess_dataset(dataset):\n",
    "    return (dataset.map(preprocess_image, num_parallel_calls=tf.data.experimental.AUTOTUNE)\n",
    "            .batch(batch_size, drop_remainder=True)\n",
    "            .shuffle(2 * batch_size)\n",
    "            .prefetch(buffer_size=tf.data.AUTOTUNE))\n",
    "\n",
    "def load_data(dataset_name):\n",
    "    train_ds, val_ds, test_ds = tfds.load(dataset_name, split=split, shuffle_files=True)\n",
    "    train_ds = preprocess_dataset(train_ds)\n",
    "    val_ds = preprocess_dataset(val_ds)\n",
    "    test_ds = preprocess_dataset(test_ds)\n",
    "    return train_ds, val_ds, test_ds"
   ],
   "metadata": {
    "collapsed": false,
    "ExecuteTime": {
     "end_time": "2023-10-18T11:09:40.432264300Z",
     "start_time": "2023-10-18T11:09:40.415444700Z"
    }
   },
   "id": "382d70fa0e9482f7"
  },
  {
   "cell_type": "code",
   "execution_count": 18,
   "outputs": [],
   "source": [
    "train_ds, val_ds, test_ds = load_data(dataset_name)"
   ],
   "metadata": {
    "collapsed": false,
    "ExecuteTime": {
     "end_time": "2023-10-18T11:10:21.319318800Z",
     "start_time": "2023-10-18T11:10:20.934779300Z"
    }
   },
   "id": "442f7de3e655fe7f"
  }
 ],
 "metadata": {
  "kernelspec": {
   "display_name": "Python 3",
   "language": "python",
   "name": "python3"
  },
  "language_info": {
   "codemirror_mode": {
    "name": "ipython",
    "version": 2
   },
   "file_extension": ".py",
   "mimetype": "text/x-python",
   "name": "python",
   "nbconvert_exporter": "python",
   "pygments_lexer": "ipython2",
   "version": "2.7.6"
  }
 },
 "nbformat": 4,
 "nbformat_minor": 5
}
